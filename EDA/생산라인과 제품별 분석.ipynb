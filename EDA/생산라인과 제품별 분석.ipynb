{
 "cells": [
  {
   "cell_type": "code",
   "execution_count": 1,
   "id": "7d40c868",
   "metadata": {},
   "outputs": [],
   "source": [
    "import pandas as pd\n",
    "import numpy as np"
   ]
  },
  {
   "cell_type": "code",
   "execution_count": 4,
   "id": "ba4749f0",
   "metadata": {},
   "outputs": [],
   "source": [
    "df = pd.read_csv('../open/train.csv')"
   ]
  },
  {
   "cell_type": "code",
   "execution_count": 5,
   "id": "84afdfb5",
   "metadata": {},
   "outputs": [
    {
     "data": {
      "text/html": [
       "<div>\n",
       "<style scoped>\n",
       "    .dataframe tbody tr th:only-of-type {\n",
       "        vertical-align: middle;\n",
       "    }\n",
       "\n",
       "    .dataframe tbody tr th {\n",
       "        vertical-align: top;\n",
       "    }\n",
       "\n",
       "    .dataframe thead th {\n",
       "        text-align: right;\n",
       "    }\n",
       "</style>\n",
       "<table border=\"1\" class=\"dataframe\">\n",
       "  <thead>\n",
       "    <tr style=\"text-align: right;\">\n",
       "      <th></th>\n",
       "      <th>PRODUCT_ID</th>\n",
       "      <th>Y_Class</th>\n",
       "      <th>Y_Quality</th>\n",
       "      <th>TIMESTAMP</th>\n",
       "      <th>LINE</th>\n",
       "      <th>PRODUCT_CODE</th>\n",
       "      <th>X_1</th>\n",
       "      <th>X_2</th>\n",
       "      <th>X_3</th>\n",
       "      <th>X_4</th>\n",
       "      <th>...</th>\n",
       "      <th>X_2866</th>\n",
       "      <th>X_2867</th>\n",
       "      <th>X_2868</th>\n",
       "      <th>X_2869</th>\n",
       "      <th>X_2870</th>\n",
       "      <th>X_2871</th>\n",
       "      <th>X_2872</th>\n",
       "      <th>X_2873</th>\n",
       "      <th>X_2874</th>\n",
       "      <th>X_2875</th>\n",
       "    </tr>\n",
       "  </thead>\n",
       "  <tbody>\n",
       "    <tr>\n",
       "      <th>0</th>\n",
       "      <td>TRAIN_000</td>\n",
       "      <td>1</td>\n",
       "      <td>0.533433</td>\n",
       "      <td>2022-06-13 5:14</td>\n",
       "      <td>T050304</td>\n",
       "      <td>A_31</td>\n",
       "      <td>NaN</td>\n",
       "      <td>NaN</td>\n",
       "      <td>NaN</td>\n",
       "      <td>NaN</td>\n",
       "      <td>...</td>\n",
       "      <td>39.34</td>\n",
       "      <td>40.89</td>\n",
       "      <td>32.56</td>\n",
       "      <td>34.09</td>\n",
       "      <td>77.77</td>\n",
       "      <td>NaN</td>\n",
       "      <td>NaN</td>\n",
       "      <td>NaN</td>\n",
       "      <td>NaN</td>\n",
       "      <td>NaN</td>\n",
       "    </tr>\n",
       "    <tr>\n",
       "      <th>1</th>\n",
       "      <td>TRAIN_001</td>\n",
       "      <td>2</td>\n",
       "      <td>0.541819</td>\n",
       "      <td>2022-06-13 5:22</td>\n",
       "      <td>T050307</td>\n",
       "      <td>A_31</td>\n",
       "      <td>NaN</td>\n",
       "      <td>NaN</td>\n",
       "      <td>NaN</td>\n",
       "      <td>NaN</td>\n",
       "      <td>...</td>\n",
       "      <td>38.89</td>\n",
       "      <td>42.82</td>\n",
       "      <td>43.92</td>\n",
       "      <td>35.34</td>\n",
       "      <td>72.55</td>\n",
       "      <td>NaN</td>\n",
       "      <td>NaN</td>\n",
       "      <td>NaN</td>\n",
       "      <td>NaN</td>\n",
       "      <td>NaN</td>\n",
       "    </tr>\n",
       "    <tr>\n",
       "      <th>2</th>\n",
       "      <td>TRAIN_002</td>\n",
       "      <td>1</td>\n",
       "      <td>0.531267</td>\n",
       "      <td>2022-06-13 5:30</td>\n",
       "      <td>T050304</td>\n",
       "      <td>A_31</td>\n",
       "      <td>NaN</td>\n",
       "      <td>NaN</td>\n",
       "      <td>NaN</td>\n",
       "      <td>NaN</td>\n",
       "      <td>...</td>\n",
       "      <td>39.19</td>\n",
       "      <td>36.65</td>\n",
       "      <td>42.47</td>\n",
       "      <td>36.53</td>\n",
       "      <td>78.35</td>\n",
       "      <td>NaN</td>\n",
       "      <td>NaN</td>\n",
       "      <td>NaN</td>\n",
       "      <td>NaN</td>\n",
       "      <td>NaN</td>\n",
       "    </tr>\n",
       "    <tr>\n",
       "      <th>3</th>\n",
       "      <td>TRAIN_003</td>\n",
       "      <td>2</td>\n",
       "      <td>0.537325</td>\n",
       "      <td>2022-06-13 5:39</td>\n",
       "      <td>T050307</td>\n",
       "      <td>A_31</td>\n",
       "      <td>NaN</td>\n",
       "      <td>NaN</td>\n",
       "      <td>NaN</td>\n",
       "      <td>NaN</td>\n",
       "      <td>...</td>\n",
       "      <td>37.74</td>\n",
       "      <td>39.17</td>\n",
       "      <td>52.17</td>\n",
       "      <td>30.58</td>\n",
       "      <td>71.78</td>\n",
       "      <td>NaN</td>\n",
       "      <td>NaN</td>\n",
       "      <td>NaN</td>\n",
       "      <td>NaN</td>\n",
       "      <td>NaN</td>\n",
       "    </tr>\n",
       "    <tr>\n",
       "      <th>4</th>\n",
       "      <td>TRAIN_004</td>\n",
       "      <td>1</td>\n",
       "      <td>0.531590</td>\n",
       "      <td>2022-06-13 5:47</td>\n",
       "      <td>T050304</td>\n",
       "      <td>A_31</td>\n",
       "      <td>NaN</td>\n",
       "      <td>NaN</td>\n",
       "      <td>NaN</td>\n",
       "      <td>NaN</td>\n",
       "      <td>...</td>\n",
       "      <td>38.70</td>\n",
       "      <td>41.89</td>\n",
       "      <td>46.93</td>\n",
       "      <td>33.09</td>\n",
       "      <td>76.97</td>\n",
       "      <td>NaN</td>\n",
       "      <td>NaN</td>\n",
       "      <td>NaN</td>\n",
       "      <td>NaN</td>\n",
       "      <td>NaN</td>\n",
       "    </tr>\n",
       "  </tbody>\n",
       "</table>\n",
       "<p>5 rows × 2881 columns</p>\n",
       "</div>"
      ],
      "text/plain": [
       "  PRODUCT_ID  Y_Class  Y_Quality        TIMESTAMP     LINE PRODUCT_CODE  X_1  \\\n",
       "0  TRAIN_000        1   0.533433  2022-06-13 5:14  T050304         A_31  NaN   \n",
       "1  TRAIN_001        2   0.541819  2022-06-13 5:22  T050307         A_31  NaN   \n",
       "2  TRAIN_002        1   0.531267  2022-06-13 5:30  T050304         A_31  NaN   \n",
       "3  TRAIN_003        2   0.537325  2022-06-13 5:39  T050307         A_31  NaN   \n",
       "4  TRAIN_004        1   0.531590  2022-06-13 5:47  T050304         A_31  NaN   \n",
       "\n",
       "   X_2  X_3  X_4  ...  X_2866  X_2867  X_2868  X_2869  X_2870  X_2871  X_2872  \\\n",
       "0  NaN  NaN  NaN  ...   39.34   40.89   32.56   34.09   77.77     NaN     NaN   \n",
       "1  NaN  NaN  NaN  ...   38.89   42.82   43.92   35.34   72.55     NaN     NaN   \n",
       "2  NaN  NaN  NaN  ...   39.19   36.65   42.47   36.53   78.35     NaN     NaN   \n",
       "3  NaN  NaN  NaN  ...   37.74   39.17   52.17   30.58   71.78     NaN     NaN   \n",
       "4  NaN  NaN  NaN  ...   38.70   41.89   46.93   33.09   76.97     NaN     NaN   \n",
       "\n",
       "   X_2873  X_2874  X_2875  \n",
       "0     NaN     NaN     NaN  \n",
       "1     NaN     NaN     NaN  \n",
       "2     NaN     NaN     NaN  \n",
       "3     NaN     NaN     NaN  \n",
       "4     NaN     NaN     NaN  \n",
       "\n",
       "[5 rows x 2881 columns]"
      ]
     },
     "metadata": {},
     "output_type": "display_data"
    }
   ],
   "source": [
    "display(df.head())"
   ]
  },
  {
   "cell_type": "code",
   "execution_count": 6,
   "id": "9199e0f1",
   "metadata": {},
   "outputs": [
    {
     "name": "stdout",
     "output_type": "stream",
     "text": [
      "X_ 로 시작하는 열의 개수 :  2875\n",
      "다른 열의 종류 :  ['PRODUCT_ID', 'Y_Class', 'Y_Quality', 'TIMESTAMP', 'LINE', 'PRODUCT_CODE']\n"
     ]
    }
   ],
   "source": [
    "cols = df.columns\n",
    "x_feat = [x for x in cols if 'X_' in x]\n",
    "other_feat = [x for x in cols if 'X_' not in x]\n",
    "print('X_ 로 시작하는 열의 개수 : ', len(x_feat))\n",
    "print('다른 열의 종류 : ', other_feat)"
   ]
  },
  {
   "cell_type": "markdown",
   "id": "13b6ec79",
   "metadata": {},
   "source": [
    "### Y_Class 비율"
   ]
  },
  {
   "cell_type": "code",
   "execution_count": 32,
   "id": "05c84769",
   "metadata": {},
   "outputs": [
    {
     "name": "stdout",
     "output_type": "stream",
     "text": [
      "Y_Class\n",
      "0    14.715719\n",
      "1    68.060201\n",
      "2    17.224080\n",
      "Name: Y_Class, dtype: float64\n"
     ]
    }
   ],
   "source": [
    "print(df.groupby(['Y_Class'])['Y_Class'].count()/len(df)*100)"
   ]
  },
  {
   "cell_type": "markdown",
   "id": "7d3aae17",
   "metadata": {},
   "source": [
    "### LINE 과 PRODUCT_CODE별 Y_Class 분포"
   ]
  },
  {
   "cell_type": "code",
   "execution_count": 36,
   "id": "d1c6e795",
   "metadata": {},
   "outputs": [
    {
     "name": "stdout",
     "output_type": "stream",
     "text": [
      "LINE 종류 :  ['T050304' 'T050307' 'T100304' 'T100306' 'T010306' 'T010305']\n",
      "LINE\n",
      "T010305     59\n",
      "T010306     70\n",
      "T050304     78\n",
      "T050307     42\n",
      "T100304    175\n",
      "T100306    174\n",
      "Name: Y_Class, dtype: int64\n",
      "LINE     Y_Class\n",
      "T010305  0           13\n",
      "         1           35\n",
      "         2           11\n",
      "T010306  0            6\n",
      "         1           37\n",
      "         2           27\n",
      "T050304  0           30\n",
      "         1           37\n",
      "         2           11\n",
      "T050307  0           11\n",
      "         1            9\n",
      "         2           22\n",
      "T100304  0           17\n",
      "         1          144\n",
      "         2           14\n",
      "T100306  0           11\n",
      "         1          145\n",
      "         2           18\n",
      "Name: Y_Class, dtype: int64\n"
     ]
    }
   ],
   "source": [
    "line_uni = df['LINE'].unique()\n",
    "code_uni = df['PRODUCT_CODE'].unique()\n",
    "\n",
    "print('LINE 종류 : ', line_uni)\n",
    "print(df.groupby(['LINE'])['Y_Class'].count())\n",
    "print(df.groupby(['LINE', 'Y_Class'])['Y_Class'].count())"
   ]
  },
  {
   "cell_type": "code",
   "execution_count": 37,
   "id": "bbd25c11",
   "metadata": {},
   "outputs": [
    {
     "name": "stdout",
     "output_type": "stream",
     "text": [
      "PRODUCT_CODE 종류 :  ['A_31' 'T_31' 'O_31']\n",
      "PRODUCT_CODE\n",
      "A_31    249\n",
      "O_31      6\n",
      "T_31    343\n",
      "Name: Y_Class, dtype: int64\n",
      "PRODUCT_CODE  Y_Class\n",
      "A_31          0           60\n",
      "              1          118\n",
      "              2           71\n",
      "O_31          1            4\n",
      "              2            2\n",
      "T_31          0           28\n",
      "              1          285\n",
      "              2           30\n",
      "Name: Y_Class, dtype: int64\n"
     ]
    }
   ],
   "source": [
    "print('PRODUCT_CODE 종류 : ', code_uni)\n",
    "print(df.groupby(['PRODUCT_CODE'])['Y_Class'].count())\n",
    "print(df.groupby(['PRODUCT_CODE', 'Y_Class'])['Y_Class'].count())"
   ]
  },
  {
   "cell_type": "markdown",
   "id": "b0e5b697",
   "metadata": {},
   "source": [
    "#### A_31 제품은 PRODUCT_CODE가 T0로 시작하는 LINE에만 생산되고\n",
    "#### 나머지 제품은 T1로 시작하는 라인에서 생산된다"
   ]
  },
  {
   "cell_type": "code",
   "execution_count": 38,
   "id": "c669c113",
   "metadata": {},
   "outputs": [
    {
     "name": "stdout",
     "output_type": "stream",
     "text": [
      "LINE     PRODUCT_CODE  Y_Class\n",
      "T010305  A_31          0           13\n",
      "                       1           35\n",
      "                       2           11\n",
      "T010306  A_31          0            6\n",
      "                       1           37\n",
      "                       2           27\n",
      "T050304  A_31          0           30\n",
      "                       1           37\n",
      "                       2           11\n",
      "T050307  A_31          0           11\n",
      "                       1            9\n",
      "                       2           22\n",
      "T100304  O_31          1            3\n",
      "         T_31          0           17\n",
      "                       1          141\n",
      "                       2           14\n",
      "T100306  O_31          1            1\n",
      "                       2            2\n",
      "         T_31          0           11\n",
      "                       1          144\n",
      "                       2           16\n",
      "Name: Y_Class, dtype: int64\n",
      "PRODUCT_CODE  LINE     Y_Class\n",
      "A_31          T010305  0           13\n",
      "                       1           35\n",
      "                       2           11\n",
      "              T010306  0            6\n",
      "                       1           37\n",
      "                       2           27\n",
      "              T050304  0           30\n",
      "                       1           37\n",
      "                       2           11\n",
      "              T050307  0           11\n",
      "                       1            9\n",
      "                       2           22\n",
      "O_31          T100304  1            3\n",
      "              T100306  1            1\n",
      "                       2            2\n",
      "T_31          T100304  0           17\n",
      "                       1          141\n",
      "                       2           14\n",
      "              T100306  0           11\n",
      "                       1          144\n",
      "                       2           16\n",
      "Name: Y_Class, dtype: int64\n"
     ]
    }
   ],
   "source": [
    "print(df.groupby(['LINE', 'PRODUCT_CODE','Y_Class'])['Y_Class'].count())\n",
    "print(df.groupby(['PRODUCT_CODE', 'LINE','Y_Class'])['Y_Class'].count())"
   ]
  },
  {
   "cell_type": "code",
   "execution_count": null,
   "id": "5a533b63",
   "metadata": {},
   "outputs": [],
   "source": []
  }
 ],
 "metadata": {
  "kernelspec": {
   "display_name": "quality",
   "language": "python",
   "name": "quality"
  },
  "language_info": {
   "codemirror_mode": {
    "name": "ipython",
    "version": 3
   },
   "file_extension": ".py",
   "mimetype": "text/x-python",
   "name": "python",
   "nbconvert_exporter": "python",
   "pygments_lexer": "ipython3",
   "version": "3.7.16"
  }
 },
 "nbformat": 4,
 "nbformat_minor": 5
}
